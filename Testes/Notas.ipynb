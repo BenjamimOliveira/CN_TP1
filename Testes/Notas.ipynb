{
 "metadata": {
  "language_info": {
   "codemirror_mode": {
    "name": "ipython",
    "version": 3
   },
   "file_extension": ".py",
   "mimetype": "text/x-python",
   "name": "python",
   "nbconvert_exporter": "python",
   "pygments_lexer": "ipython3",
   "version": 3
  },
  "orig_nbformat": 2
 },
 "nbformat": 4,
 "nbformat_minor": 2,
 "cells": [
  {
   "source": [
    "# CNN On Image Classification\n",
    "- Modelo preditivo, classificar pássaros\n",
    "\n",
    "\n",
    "### Pontos a trabalhar:\n",
    "- Preparação e análise do dataset\n",
    "- Treino e Validação de Modelos (Em concreto CNN)\n",
    "- Optimização dos hiperparametros, estrutura e loss function com Algoritmos Genéticos"
   ],
   "cell_type": "markdown",
   "metadata": {}
  }
 ]
}