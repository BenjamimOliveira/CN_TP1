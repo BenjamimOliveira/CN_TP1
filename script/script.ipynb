{
  "nbformat": 4,
  "nbformat_minor": 0,
  "metadata": {
    "orig_nbformat": 2,
    "kernelspec": {
      "name": "python3",
      "display_name": "Python 3"
    },
    "colab": {
      "name": "script.ipynb",
      "provenance": [],
      "toc_visible": true,
      "include_colab_link": true
    },
    "language_info": {
      "name": "python"
    },
    "accelerator": "GPU"
  },
  "cells": [
    {
      "cell_type": "markdown",
      "metadata": {
        "id": "view-in-github",
        "colab_type": "text"
      },
      "source": [
        "<a href=\"https://colab.research.google.com/github/BenjamimOliveira/CN_TP1/blob/main/script/script.ipynb\" target=\"_parent\"><img src=\"https://colab.research.google.com/assets/colab-badge.svg\" alt=\"Open In Colab\"/></a>"
      ]
    },
    {
      "cell_type": "markdown",
      "metadata": {
        "id": "Wlamn-IkukXq"
      },
      "source": [
        "# CNN - CN - TP1\n",
        "----------------\n",
        "## Imports"
      ]
    },
    {
      "cell_type": "code",
      "metadata": {
        "id": "eGlJOCRm-qHX"
      },
      "source": [
        "import matplotlib.pyplot as plt\n",
        "import numpy as np\n",
        "import os\n",
        "import PIL\n",
        "import tensorflow as tf\n",
        "import tensorflow.keras.optimizers as optimizers\n",
        "import time\n",
        "import zipfile\n",
        "\n",
        "from tensorflow import keras\n",
        "from tensorflow.keras import layers\n",
        "from tensorflow.keras.models import Sequential"
      ],
      "execution_count": 51,
      "outputs": []
    },
    {
      "cell_type": "markdown",
      "metadata": {
        "id": "h8-P53ccuw7j"
      },
      "source": [
        "### Mount google drive\n"
      ]
    },
    {
      "cell_type": "code",
      "metadata": {
        "id": "UxeMZkJ6t2tw",
        "colab": {
          "base_uri": "https://localhost:8080/"
        },
        "outputId": "0e235ea0-3561-4ff3-deee-24b0f6d3c537"
      },
      "source": [
        "from google.colab import drive\n",
        "drive.mount('/content/drive')"
      ],
      "execution_count": 52,
      "outputs": [
        {
          "output_type": "stream",
          "text": [
            "Drive already mounted at /content/drive; to attempt to forcibly remount, call drive.mount(\"/content/drive\", force_remount=True).\n"
          ],
          "name": "stdout"
        }
      ]
    },
    {
      "cell_type": "markdown",
      "metadata": {
        "id": "iEddWAwm-vjg"
      },
      "source": [
        "## Load Data\n",
        " "
      ]
    },
    {
      "cell_type": "code",
      "metadata": {
        "id": "UZKeMBAJvXol",
        "colab": {
          "base_uri": "https://localhost:8080/"
        },
        "outputId": "c379e7dd-1696-46cc-be12-256a5d965a32"
      },
      "source": [
        "start_time = time.time()\n",
        "!cp -r 'drive/MyDrive/UMinho/CN/dataset.zip' 'dataset.zip'\n",
        "print(\"%s segundos\" % ((time.time() - start_time)))"
      ],
      "execution_count": 53,
      "outputs": [
        {
          "output_type": "stream",
          "text": [
            "2.9626669883728027 segundos\n"
          ],
          "name": "stdout"
        }
      ]
    },
    {
      "cell_type": "code",
      "metadata": {
        "id": "IthaAia8ncvA",
        "outputId": "8ea4a5fb-e6ef-4a18-8f0a-4f13b4a14cb6",
        "colab": {
          "base_uri": "https://localhost:8080/"
        }
      },
      "source": [
        "start_time = time.time()\n",
        "with zipfile.ZipFile('dataset.zip', 'r') as zip_ref:\n",
        "    zip_ref.extractall('dataset_extr')\n",
        "print(\"%s minutos\" % ((time.time() - start_time)/60))"
      ],
      "execution_count": 54,
      "outputs": [
        {
          "output_type": "stream",
          "text": [
            "0.35484004418055215 minutos\n"
          ],
          "name": "stdout"
        }
      ]
    },
    {
      "cell_type": "code",
      "metadata": {
        "id": "_ReREbDL-vCy",
        "colab": {
          "base_uri": "https://localhost:8080/"
        },
        "outputId": "aeb7f34c-8387-480e-801f-b4f53201d0e5"
      },
      "source": [
        "train_dir = '/content/dataset_extr/dataset/train'\n",
        "test_dir = '/content/dataset_extr/dataset/test'\n",
        "valid_dir = '/content/dataset_extr/dataset/valid'\n",
        "\n",
        "train_ds = tf.keras.preprocessing.image_dataset_from_directory(\n",
        "    train_dir,\n",
        "    seed=123,\n",
        "    image_size=(64, 64),\n",
        "    batch_size=32)\n",
        "test_ds = tf.keras.preprocessing.image_dataset_from_directory(\n",
        "    test_dir,\n",
        "    seed=123,\n",
        "    image_size=(64, 64),\n",
        "    batch_size=32)\n",
        "valid_ds = tf.keras.preprocessing.image_dataset_from_directory(\n",
        "    valid_dir,\n",
        "    seed=123,\n",
        "    image_size=(64, 64),\n",
        "    batch_size=32)"
      ],
      "execution_count": 55,
      "outputs": [
        {
          "output_type": "stream",
          "text": [
            "Found 35215 files belonging to 250 classes.\n",
            "Found 1250 files belonging to 250 classes.\n",
            "Found 1250 files belonging to 250 classes.\n"
          ],
          "name": "stdout"
        }
      ]
    },
    {
      "cell_type": "code",
      "metadata": {
        "id": "25fdA7Fku1Xf"
      },
      "source": [
        "class_names = train_ds.class_names"
      ],
      "execution_count": 56,
      "outputs": []
    },
    {
      "cell_type": "markdown",
      "metadata": {
        "id": "GBw53ihlwpDa"
      },
      "source": [
        "## Auto Tune\n"
      ]
    },
    {
      "cell_type": "code",
      "metadata": {
        "id": "D6jOsHbpwsJf"
      },
      "source": [
        "AUTOTUNE = tf.data.AUTOTUNE\n",
        "\n",
        "train_ds = train_ds.cache().shuffle(1000).prefetch(buffer_size=AUTOTUNE)\n",
        "valid_ds = valid_ds.cache().prefetch(buffer_size=AUTOTUNE)\n",
        "test_ds = test_ds.cache().prefetch(buffer_size=AUTOTUNE)"
      ],
      "execution_count": 57,
      "outputs": []
    },
    {
      "cell_type": "markdown",
      "metadata": {
        "id": "ESa1irHKwvbs"
      },
      "source": [
        "## CNN"
      ]
    },
    {
      "cell_type": "code",
      "metadata": {
        "id": "NWaAUACiwyoI"
      },
      "source": [
        "num_classes = 250\n",
        "\n",
        "model = Sequential([\n",
        "  layers.experimental.preprocessing.Rescaling(1./255, input_shape=(64, 64, 3)),\n",
        "  layers.Conv2D(filters=16, kernel_size=3, padding='same', activation='relu'),\n",
        "  layers.MaxPooling2D(),\n",
        "  layers.Conv2D(32, 3, padding='same', activation='relu'),\n",
        "  layers.MaxPooling2D(),\n",
        "  layers.Conv2D(64, 3, padding='same', activation='relu'),\n",
        "  layers.MaxPooling2D(),\n",
        "  layers.Flatten(),\n",
        "  layers.Dense(128, activation='relu'),\n",
        "  layers.Dense(num_classes)\n",
        "])"
      ],
      "execution_count": 58,
      "outputs": []
    },
    {
      "cell_type": "markdown",
      "metadata": {
        "id": "pS2r9hiow0ye"
      },
      "source": [
        "## Compilar o modelo"
      ]
    },
    {
      "cell_type": "code",
      "metadata": {
        "id": "E91MYW12w4si"
      },
      "source": [
        "opt = optimizers.SGD(learning_rate=0.01, momentum=0.9)\n",
        "# Experimentar loss='sparse_categorical_crossentropy'\n",
        "model.compile(optimizer='adam',\n",
        "              loss=tf.keras.losses.SparseCategoricalCrossentropy(from_logits=True),\n",
        "              metrics=['accuracy'])"
      ],
      "execution_count": 59,
      "outputs": []
    },
    {
      "cell_type": "markdown",
      "metadata": {
        "id": "P2XgXu48xU1e"
      },
      "source": [
        "## Treinar o modelo"
      ]
    },
    {
      "cell_type": "code",
      "metadata": {
        "id": "KMyzSTi4xXWT",
        "colab": {
          "base_uri": "https://localhost:8080/"
        },
        "outputId": "aef37249-0dd1-4baf-f97b-cf4f9cf286a6"
      },
      "source": [
        "epochs=25\n",
        "start_time = time.time()\n",
        "with tf.device('/device:GPU:0'):\n",
        "  history = model.fit(\n",
        "    train_ds,\n",
        "    validation_data=valid_ds,\n",
        "    epochs=epochs\n",
        "  )\n",
        "print(\"%s minutos\" % ((time.time() - start_time)/60))"
      ],
      "execution_count": 60,
      "outputs": [
        {
          "output_type": "stream",
          "text": [
            "Epoch 1/25\n",
            "1101/1101 [==============================] - 31s 7ms/step - loss: 5.1193 - accuracy: 0.0427 - val_loss: 3.1867 - val_accuracy: 0.2688\n",
            "Epoch 2/25\n",
            "1101/1101 [==============================] - 5s 4ms/step - loss: 3.0291 - accuracy: 0.3233 - val_loss: 2.1724 - val_accuracy: 0.4936\n",
            "Epoch 3/25\n",
            "1101/1101 [==============================] - 4s 4ms/step - loss: 2.2228 - accuracy: 0.4777 - val_loss: 1.8410 - val_accuracy: 0.5440\n",
            "Epoch 4/25\n",
            "1101/1101 [==============================] - 4s 4ms/step - loss: 1.7737 - accuracy: 0.5704 - val_loss: 1.6882 - val_accuracy: 0.5704\n",
            "Epoch 5/25\n",
            "1101/1101 [==============================] - 4s 4ms/step - loss: 1.4412 - accuracy: 0.6365 - val_loss: 1.5642 - val_accuracy: 0.6200\n",
            "Epoch 6/25\n",
            "1101/1101 [==============================] - 4s 4ms/step - loss: 1.2037 - accuracy: 0.6919 - val_loss: 1.5886 - val_accuracy: 0.6064\n",
            "Epoch 7/25\n",
            "1101/1101 [==============================] - 4s 4ms/step - loss: 0.9857 - accuracy: 0.7415 - val_loss: 1.7161 - val_accuracy: 0.6024\n",
            "Epoch 8/25\n",
            "1101/1101 [==============================] - 4s 4ms/step - loss: 0.7946 - accuracy: 0.7823 - val_loss: 1.7221 - val_accuracy: 0.6144\n",
            "Epoch 9/25\n",
            "1101/1101 [==============================] - 4s 4ms/step - loss: 0.6302 - accuracy: 0.8248 - val_loss: 1.8280 - val_accuracy: 0.6240\n",
            "Epoch 10/25\n",
            "1101/1101 [==============================] - 4s 4ms/step - loss: 0.5033 - accuracy: 0.8576 - val_loss: 1.9900 - val_accuracy: 0.6176\n",
            "Epoch 11/25\n",
            "1101/1101 [==============================] - 4s 4ms/step - loss: 0.4071 - accuracy: 0.8782 - val_loss: 2.1555 - val_accuracy: 0.5848\n",
            "Epoch 12/25\n",
            "1101/1101 [==============================] - 4s 4ms/step - loss: 0.3268 - accuracy: 0.9025 - val_loss: 2.3962 - val_accuracy: 0.5976\n",
            "Epoch 13/25\n",
            "1101/1101 [==============================] - 4s 4ms/step - loss: 0.2700 - accuracy: 0.9191 - val_loss: 2.6523 - val_accuracy: 0.5896\n",
            "Epoch 14/25\n",
            "1101/1101 [==============================] - 4s 4ms/step - loss: 0.2333 - accuracy: 0.9281 - val_loss: 2.7553 - val_accuracy: 0.5952\n",
            "Epoch 15/25\n",
            "1101/1101 [==============================] - 4s 4ms/step - loss: 0.2228 - accuracy: 0.9298 - val_loss: 2.8431 - val_accuracy: 0.5944\n",
            "Epoch 16/25\n",
            "1101/1101 [==============================] - 4s 4ms/step - loss: 0.1921 - accuracy: 0.9361 - val_loss: 3.1456 - val_accuracy: 0.5912\n",
            "Epoch 17/25\n",
            "1101/1101 [==============================] - 4s 4ms/step - loss: 0.1838 - accuracy: 0.9409 - val_loss: 3.2390 - val_accuracy: 0.5664\n",
            "Epoch 18/25\n",
            "1101/1101 [==============================] - 4s 4ms/step - loss: 0.1616 - accuracy: 0.9468 - val_loss: 3.2949 - val_accuracy: 0.5816\n",
            "Epoch 19/25\n",
            "1101/1101 [==============================] - 4s 4ms/step - loss: 0.1480 - accuracy: 0.9518 - val_loss: 3.5887 - val_accuracy: 0.5960\n",
            "Epoch 20/25\n",
            "1101/1101 [==============================] - 4s 4ms/step - loss: 0.1697 - accuracy: 0.9442 - val_loss: 3.7619 - val_accuracy: 0.5576\n",
            "Epoch 21/25\n",
            "1101/1101 [==============================] - 4s 4ms/step - loss: 0.1564 - accuracy: 0.9475 - val_loss: 3.7342 - val_accuracy: 0.5752\n",
            "Epoch 22/25\n",
            "1101/1101 [==============================] - 4s 4ms/step - loss: 0.1410 - accuracy: 0.9545 - val_loss: 3.8163 - val_accuracy: 0.5752\n",
            "Epoch 23/25\n",
            "1101/1101 [==============================] - 4s 4ms/step - loss: 0.1277 - accuracy: 0.9600 - val_loss: 4.1282 - val_accuracy: 0.5696\n",
            "Epoch 24/25\n",
            "1101/1101 [==============================] - 4s 4ms/step - loss: 0.1272 - accuracy: 0.9593 - val_loss: 4.0917 - val_accuracy: 0.5736\n",
            "Epoch 25/25\n",
            "1101/1101 [==============================] - 4s 4ms/step - loss: 0.1205 - accuracy: 0.9633 - val_loss: 3.8844 - val_accuracy: 0.5752\n",
            "2.280075736840566 minutos\n"
          ],
          "name": "stdout"
        }
      ]
    },
    {
      "cell_type": "code",
      "metadata": {
        "id": "EyB0hprYx6nF"
      },
      "source": [
        ""
      ],
      "execution_count": 60,
      "outputs": []
    },
    {
      "cell_type": "markdown",
      "metadata": {
        "id": "6DKbfavrxcUU"
      },
      "source": [
        "## Prever"
      ]
    },
    {
      "cell_type": "code",
      "metadata": {
        "id": "ka0MbpVwxehb",
        "outputId": "df65b344-d61c-44c3-c177-fcc7099cffd4",
        "colab": {
          "base_uri": "https://localhost:8080/",
          "height": 285
        }
      },
      "source": [
        "i=1\n",
        "predictions = model.predict(test_ds)\n",
        "score = tf.nn.softmax(predictions[i])\n",
        "\n",
        "print(\n",
        "    \"Em teoria o pássaro é um {} com {:.2f} porcento de certeza mpt.\"\n",
        "    .format(class_names[np.argmax(score)], 100 * np.max(score))\n",
        ")\n",
        "plt.imshow(list(test_ds)[0][0][i]/255)\n",
        "plt.show()"
      ],
      "execution_count": 63,
      "outputs": [
        {
          "output_type": "stream",
          "text": [
            "Em teoria o pássaro é um WILD TURKEY com 67.15 porcento de certeza mpt.\n"
          ],
          "name": "stdout"
        },
        {
          "output_type": "display_data",
          "data": {
            "image/png": "[encoded data removed]",
            "text/plain": [
              "<Figure size 432x288 with 1 Axes>"
            ]
          },
          "metadata": {
            "tags": [],
            "needs_background": "light"
          }
        }
      ]
    }
  ]
}