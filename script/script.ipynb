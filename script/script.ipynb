{
  "nbformat": 4,
  "nbformat_minor": 0,
  "metadata": {
    "language_info": {
      "codemirror_mode": {
        "name": "ipython",
        "version": 3
      },
      "file_extension": ".py",
      "mimetype": "text/x-python",
      "name": "python",
      "nbconvert_exporter": "python",
      "pygments_lexer": "ipython3",
      "version": "3.6.12"
    },
    "orig_nbformat": 2,
    "kernelspec": {
      "name": "python3612jvsc74a57bd082255b7d0580a8dafe4b57e7bbbfab8de6862a02fcb9d89a6b9b4ee493a13638",
      "display_name": "Python 3.6.12 64-bit ('computaoNatural': conda)"
    },
    "colab": {
      "name": "script.ipynb",
      "provenance": [],
      "toc_visible": true,
      "include_colab_link": true
    }
  },
  "cells": [
    {
      "cell_type": "markdown",
      "metadata": {
        "id": "view-in-github",
        "colab_type": "text"
      },
      "source": [
        "<a href=\"https://colab.research.google.com/github/BenjamimOliveira/CN_TP1/blob/main/script/script.ipynb\" target=\"_parent\"><img src=\"https://colab.research.google.com/assets/colab-badge.svg\" alt=\"Open In Colab\"/></a>"
      ]
    },
    {
      "cell_type": "code",
      "metadata": {
        "id": "eGlJOCRm-qHX"
      },
      "source": [
        "%run \"imports.py\""
      ],
      "execution_count": null,
      "outputs": []
    },
    {
      "cell_type": "markdown",
      "metadata": {
        "id": "AaPyi5IH-qHr"
      },
      "source": [
        "---------------------\n",
        "### Fitness Function\n",
        "    - Accuracy"
      ]
    },
    {
      "cell_type": "markdown",
      "metadata": {
        "id": "iEddWAwm-vjg"
      },
      "source": [
        "tewtestestse\n",
        " asda asada \n",
        " "
      ]
    },
    {
      "cell_type": "code",
      "metadata": {
        "id": "_ReREbDL-vCy"
      },
      "source": [
        ""
      ],
      "execution_count": null,
      "outputs": []
    }
  ]
}