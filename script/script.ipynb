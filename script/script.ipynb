{
  "nbformat": 4,
  "nbformat_minor": 0,
  "metadata": {
    "orig_nbformat": 2,
    "kernelspec": {
      "name": "python3",
      "display_name": "Python 3"
    },
    "colab": {
      "name": "script.ipynb",
      "provenance": [],
      "toc_visible": true,
      "include_colab_link": true
    },
    "language_info": {
      "name": "python"
    },
    "accelerator": "GPU"
  },
  "cells": [
    {
      "cell_type": "markdown",
      "metadata": {
        "id": "view-in-github",
        "colab_type": "text"
      },
      "source": [
        "<a href=\"https://colab.research.google.com/github/BenjamimOliveira/CN_TP1/blob/main/script/script.ipynb\" target=\"_parent\"><img src=\"https://colab.research.google.com/assets/colab-badge.svg\" alt=\"Open In Colab\"/></a>"
      ]
    },
    {
      "cell_type": "markdown",
      "metadata": {
        "id": "Wlamn-IkukXq"
      },
      "source": [
        "# CNN - CN - TP1\n",
        "----------------\n",
        "## Imports"
      ]
    },
    {
      "cell_type": "code",
      "metadata": {
        "id": "eGlJOCRm-qHX"
      },
      "source": [
        "import matplotlib.pyplot as plt\n",
        "import numpy as np\n",
        "import os\n",
        "import PIL\n",
        "import tensorflow as tf\n",
        "import tensorflow.keras.optimizers as optimizers\n",
        "\n",
        "from tensorflow import keras\n",
        "from tensorflow.keras import layers\n",
        "from tensorflow.keras.models import Sequential"
      ],
      "execution_count": 1,
      "outputs": []
    },
    {
      "cell_type": "markdown",
      "metadata": {
        "id": "h8-P53ccuw7j"
      },
      "source": [
        "### Mount google drive\n"
      ]
    },
    {
      "cell_type": "code",
      "metadata": {
        "id": "UxeMZkJ6t2tw",
        "outputId": "3afd1907-650b-4e7f-ecbe-9a47b91de48c",
        "colab": {
          "base_uri": "https://localhost:8080/"
        }
      },
      "source": [
        "from google.colab import drive\n",
        "drive.mount('/content/drive')"
      ],
      "execution_count": 2,
      "outputs": [
        {
          "output_type": "stream",
          "text": [
            "Mounted at /content/drive\n"
          ],
          "name": "stdout"
        }
      ]
    },
    {
      "cell_type": "markdown",
      "metadata": {
        "id": "iEddWAwm-vjg"
      },
      "source": [
        "## Load Data\n",
        " "
      ]
    },
    {
      "cell_type": "code",
      "metadata": {
        "id": "UZKeMBAJvXol",
        "outputId": "736d9fe5-3300-48a0-bcfa-0796c703dc68",
        "colab": {
          "base_uri": "https://localhost:8080/"
        }
      },
      "source": [
        "import os \n",
        "print(os.getcwd())"
      ],
      "execution_count": 3,
      "outputs": [
        {
          "output_type": "stream",
          "text": [
            "/content\n"
          ],
          "name": "stdout"
        }
      ]
    },
    {
      "cell_type": "code",
      "metadata": {
        "id": "_ReREbDL-vCy",
        "outputId": "94234e02-7538-4877-e589-c02332afffc4",
        "colab": {
          "base_uri": "https://localhost:8080/"
        }
      },
      "source": [
        "train_dir = 'drive/MyDrive/UMinho/CN/dataset/train'\n",
        "test_dir = 'drive/MyDrive/UMinho/CN//dataset/test'\n",
        "valid_dir = 'drive/MyDrive/UMinho/CN//dataset/valid'\n",
        "\n",
        "train_ds = tf.keras.preprocessing.image_dataset_from_directory(\n",
        "    train_dir,\n",
        "    seed=123,\n",
        "    image_size=(64, 64),\n",
        "    batch_size=32)\n",
        "test_ds = tf.keras.preprocessing.image_dataset_from_directory(\n",
        "    test_dir,\n",
        "    seed=123,\n",
        "    image_size=(64, 64),\n",
        "    batch_size=32)\n",
        "valid_ds = tf.keras.preprocessing.image_dataset_from_directory(\n",
        "    valid_dir,\n",
        "    seed=123,\n",
        "    image_size=(64, 64),\n",
        "    batch_size=32)"
      ],
      "execution_count": 4,
      "outputs": [
        {
          "output_type": "stream",
          "text": [
            "Found 35215 files belonging to 250 classes.\n",
            "Found 1250 files belonging to 250 classes.\n",
            "Found 1250 files belonging to 250 classes.\n"
          ],
          "name": "stdout"
        }
      ]
    },
    {
      "cell_type": "code",
      "metadata": {
        "id": "25fdA7Fku1Xf"
      },
      "source": [
        "class_names = train_ds.class_names"
      ],
      "execution_count": 5,
      "outputs": []
    },
    {
      "cell_type": "markdown",
      "metadata": {
        "id": "GBw53ihlwpDa"
      },
      "source": [
        "## Auto Tune\n"
      ]
    },
    {
      "cell_type": "code",
      "metadata": {
        "id": "D6jOsHbpwsJf"
      },
      "source": [
        "AUTOTUNE = tf.data.AUTOTUNE\n",
        "\n",
        "train_ds = train_ds.cache().shuffle(1000).prefetch(buffer_size=AUTOTUNE)\n",
        "valid_ds = valid_ds.cache().prefetch(buffer_size=AUTOTUNE)\n",
        "test_ds = test_ds.cache().prefetch(buffer_size=AUTOTUNE)"
      ],
      "execution_count": 6,
      "outputs": []
    },
    {
      "cell_type": "markdown",
      "metadata": {
        "id": "ESa1irHKwvbs"
      },
      "source": [
        "## CNN"
      ]
    },
    {
      "cell_type": "code",
      "metadata": {
        "id": "NWaAUACiwyoI"
      },
      "source": [
        "num_classes = 250\n",
        "\n",
        "model = Sequential([\n",
        "  layers.experimental.preprocessing.Rescaling(1./255, input_shape=(64, 64, 3)),\n",
        "  layers.Conv2D(filters=16, kernel_size=3, padding='same', activation='relu'),\n",
        "  layers.MaxPooling2D(),\n",
        "  layers.Conv2D(32, 3, padding='same', activation='relu'),\n",
        "  layers.MaxPooling2D(),\n",
        "  layers.Conv2D(64, 3, padding='same', activation='relu'),\n",
        "  layers.MaxPooling2D(),\n",
        "  layers.Flatten(),\n",
        "  layers.Dense(128, activation='relu'),\n",
        "  layers.Dense(num_classes)\n",
        "])"
      ],
      "execution_count": 7,
      "outputs": []
    },
    {
      "cell_type": "markdown",
      "metadata": {
        "id": "pS2r9hiow0ye"
      },
      "source": [
        "## Compilar o modelo"
      ]
    },
    {
      "cell_type": "code",
      "metadata": {
        "id": "E91MYW12w4si"
      },
      "source": [
        "opt = optimizers.SGD(learning_rate=0.01, momentum=0.9)\n",
        "# Experimentar loss='sparse_categorical_crossentropy'\n",
        "model.compile(optimizer='adam',\n",
        "              loss=tf.keras.losses.SparseCategoricalCrossentropy(from_logits=True),\n",
        "              metrics=['accuracy'])"
      ],
      "execution_count": 8,
      "outputs": []
    },
    {
      "cell_type": "markdown",
      "metadata": {
        "id": "P2XgXu48xU1e"
      },
      "source": [
        "## Treinar o modelo"
      ]
    },
    {
      "cell_type": "code",
      "metadata": {
        "id": "KMyzSTi4xXWT",
        "outputId": "56431059-d342-4ea7-dadb-73c943f7c30d",
        "colab": {
          "base_uri": "https://localhost:8080/"
        }
      },
      "source": [
        "epochs=3\n",
        "history = model.fit(\n",
        "  train_ds,\n",
        "  validation_data=valid_ds,\n",
        "  epochs=epochs\n",
        ")"
      ],
      "execution_count": null,
      "outputs": [
        {
          "output_type": "stream",
          "text": [
            "Epoch 1/3\n"
          ],
          "name": "stdout"
        }
      ]
    },
    {
      "cell_type": "code",
      "metadata": {
        "id": "EyB0hprYx6nF"
      },
      "source": [
        ""
      ],
      "execution_count": null,
      "outputs": []
    },
    {
      "cell_type": "markdown",
      "metadata": {
        "id": "6DKbfavrxcUU"
      },
      "source": [
        "## Prever"
      ]
    },
    {
      "cell_type": "code",
      "metadata": {
        "id": "ka0MbpVwxehb"
      },
      "source": [
        "i=2\n",
        "predictions = model.predict(test_ds)\n",
        "score = tf.nn.softmax(predictions[i])\n",
        "\n",
        "print(\n",
        "    \"Em teoria o pássaro é um {} com {:.2f} porcento de certeza.\"\n",
        "    .format(class_names[np.argmax(score)], 100 * np.max(score))\n",
        ")\n",
        "plt.imshow(list(test_ds)[0][0][i]/255)\n",
        "plt.show()"
      ],
      "execution_count": null,
      "outputs": []
    }
  ]
}