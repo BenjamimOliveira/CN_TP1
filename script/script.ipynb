{
 "metadata": {
  "language_info": {
   "codemirror_mode": {
    "name": "ipython",
    "version": 3
   },
   "file_extension": ".py",
   "mimetype": "text/x-python",
   "name": "python",
   "nbconvert_exporter": "python",
   "pygments_lexer": "ipython3",
   "version": "3.6.12"
  },
  "orig_nbformat": 2,
  "kernelspec": {
   "name": "python3612jvsc74a57bd082255b7d0580a8dafe4b57e7bbbfab8de6862a02fcb9d89a6b9b4ee493a13638",
   "display_name": "Python 3.6.12 64-bit ('computaoNatural': conda)"
  }
 },
 "nbformat": 4,
 "nbformat_minor": 2,
 "cells": [
  {
   "cell_type": "code",
   "execution_count": 2,
   "metadata": {},
   "outputs": [],
   "source": [
    "%run \"imports.py\""
   ]
  },
  {
   "source": [
    "---------------------\n",
    "### Fitness Function\n",
    "    - Accuracy"
   ],
   "cell_type": "markdown",
   "metadata": {}
  }
 ]
}