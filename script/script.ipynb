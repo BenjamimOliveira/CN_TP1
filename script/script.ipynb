{
  "nbformat": 4,
  "nbformat_minor": 0,
  "metadata": {
    "orig_nbformat": 2,
    "kernelspec": {
      "name": "python3",
      "display_name": "Python 3"
    },
    "colab": {
      "name": "script.ipynb",
      "provenance": [],
      "toc_visible": true,
      "include_colab_link": true
    },
    "language_info": {
      "name": "python"
    },
    "accelerator": "GPU"
  },
  "cells": [
    {
      "cell_type": "markdown",
      "metadata": {
        "id": "view-in-github",
        "colab_type": "text"
      },
      "source": [
        "<a href=\"https://colab.research.google.com/github/BenjamimOliveira/CN_TP1/blob/main/script/script.ipynb\" target=\"_parent\"><img src=\"https://colab.research.google.com/assets/colab-badge.svg\" alt=\"Open In Colab\"/></a>"
      ]
    },
    {
      "cell_type": "markdown",
      "metadata": {
        "id": "Wlamn-IkukXq"
      },
      "source": [
        "# CNN - CN - TP1\n",
        "----------------\n",
        "## Imports"
      ]
    },
    {
      "cell_type": "code",
      "metadata": {
        "id": "eGlJOCRm-qHX"
      },
      "source": [
        "import matplotlib.pyplot as plt\n",
        "import numpy as np\n",
        "import os\n",
        "import PIL\n",
        "import tensorflow as tf\n",
        "import tensorflow.keras.optimizers as optimizers\n",
        "import time\n",
        "import zipfile\n",
        "\n",
        "from tensorflow import keras\n",
        "from tensorflow.keras import layers\n",
        "from tensorflow.keras.models import Sequential"
      ],
      "execution_count": 1,
      "outputs": []
    },
    {
      "cell_type": "markdown",
      "metadata": {
        "id": "h8-P53ccuw7j"
      },
      "source": [
        "### Mount google drive\n"
      ]
    },
    {
      "cell_type": "code",
      "metadata": {
        "id": "UxeMZkJ6t2tw",
        "colab": {
          "base_uri": "https://localhost:8080/"
        },
        "outputId": "0336f083-1abd-4087-9562-4b49baf2cb3d"
      },
      "source": [
        "from google.colab import drive\n",
        "drive.mount('/content/drive')"
      ],
      "execution_count": 2,
      "outputs": [
        {
          "output_type": "stream",
          "text": [
            "Mounted at /content/drive\n"
          ],
          "name": "stdout"
        }
      ]
    },
    {
      "cell_type": "markdown",
      "metadata": {
        "id": "iEddWAwm-vjg"
      },
      "source": [
        "## Load Data\n",
        " "
      ]
    },
    {
      "cell_type": "code",
      "metadata": {
        "id": "UZKeMBAJvXol",
        "colab": {
          "base_uri": "https://localhost:8080/"
        },
        "outputId": "1873d5a3-d194-49ef-cde9-2ce694a6a5c7"
      },
      "source": [
        "start_time = time.time()\n",
        "!cp -r 'drive/MyDrive/UMinho/CN/dataset.zip' 'dataset.zip'\n",
        "print(\"%s segundos\" % ((time.time() - start_time)))"
      ],
      "execution_count": 3,
      "outputs": [
        {
          "output_type": "stream",
          "text": [
            "14.901170492172241 segundos\n"
          ],
          "name": "stdout"
        }
      ]
    },
    {
      "cell_type": "code",
      "metadata": {
        "id": "IthaAia8ncvA",
        "colab": {
          "base_uri": "https://localhost:8080/"
        },
        "outputId": "7a5d1d5a-f600-490a-f29e-28c846255766"
      },
      "source": [
        "start_time = time.time()\n",
        "with zipfile.ZipFile('dataset.zip', 'r') as zip_ref:\n",
        "    zip_ref.extractall('dataset_extr')\n",
        "print(\"%s minutos\" % ((time.time() - start_time)))"
      ],
      "execution_count": 4,
      "outputs": [
        {
          "output_type": "stream",
          "text": [
            "15.026281595230103 minutos\n"
          ],
          "name": "stdout"
        }
      ]
    },
    {
      "cell_type": "code",
      "metadata": {
        "id": "_ReREbDL-vCy",
        "colab": {
          "base_uri": "https://localhost:8080/"
        },
        "outputId": "008c85f2-4deb-489c-e1dd-20f56f57c595"
      },
      "source": [
        "train_dir = '/content/dataset_extr/dataset/train'\n",
        "test_dir = '/content/dataset_extr/dataset/test'\n",
        "valid_dir = '/content/dataset_extr/dataset/valid'\n",
        "\n",
        "train_ds = tf.keras.preprocessing.image_dataset_from_directory(\n",
        "    train_dir,\n",
        "    seed=123,\n",
        "    image_size=(64, 64),\n",
        "    batch_size=32)\n",
        "test_ds = tf.keras.preprocessing.image_dataset_from_directory(\n",
        "    test_dir,\n",
        "    seed=123,\n",
        "    image_size=(64, 64),\n",
        "    batch_size=32)\n",
        "valid_ds = tf.keras.preprocessing.image_dataset_from_directory(\n",
        "    valid_dir,\n",
        "    seed=123,\n",
        "    image_size=(64, 64),\n",
        "    batch_size=32)"
      ],
      "execution_count": 5,
      "outputs": [
        {
          "output_type": "stream",
          "text": [
            "Found 35215 files belonging to 250 classes.\n",
            "Found 1250 files belonging to 250 classes.\n",
            "Found 1250 files belonging to 250 classes.\n"
          ],
          "name": "stdout"
        }
      ]
    },
    {
      "cell_type": "code",
      "metadata": {
        "id": "25fdA7Fku1Xf"
      },
      "source": [
        "class_names = train_ds.class_names"
      ],
      "execution_count": 6,
      "outputs": []
    },
    {
      "cell_type": "markdown",
      "metadata": {
        "id": "GBw53ihlwpDa"
      },
      "source": [
        "## Auto Tune\n"
      ]
    },
    {
      "cell_type": "code",
      "metadata": {
        "id": "D6jOsHbpwsJf"
      },
      "source": [
        "AUTOTUNE = tf.data.AUTOTUNE\n",
        "\n",
        "train_ds = train_ds.cache().shuffle(1000).prefetch(buffer_size=AUTOTUNE)\n",
        "valid_ds = valid_ds.cache().prefetch(buffer_size=AUTOTUNE)\n",
        "test_ds = test_ds.cache().prefetch(buffer_size=AUTOTUNE)"
      ],
      "execution_count": 7,
      "outputs": []
    },
    {
      "cell_type": "markdown",
      "metadata": {
        "id": "ESa1irHKwvbs"
      },
      "source": [
        "## CNN"
      ]
    },
    {
      "cell_type": "code",
      "metadata": {
        "id": "NWaAUACiwyoI"
      },
      "source": [
        "num_classes = 250\n",
        "\n",
        "model = Sequential([\n",
        "  layers.experimental.preprocessing.Rescaling(1./255, input_shape=(64, 64, 3)),\n",
        "  layers.Conv2D(filters=16, kernel_size=3, padding='same', activation='relu'),\n",
        "  layers.MaxPooling2D(),\n",
        "  layers.Conv2D(32, 3, padding='same', activation='relu'),\n",
        "  layers.MaxPooling2D(),\n",
        "  layers.Conv2D(64, 3, padding='same', activation='relu'),\n",
        "  layers.MaxPooling2D(),\n",
        "  layers.Flatten(),\n",
        "  layers.Dense(128, activation='relu'),\n",
        "  layers.Dense(num_classes)\n",
        "])"
      ],
      "execution_count": null,
      "outputs": []
    },
    {
      "cell_type": "markdown",
      "metadata": {
        "id": "pS2r9hiow0ye"
      },
      "source": [
        "## Compilar o modelo"
      ]
    },
    {
      "cell_type": "code",
      "metadata": {
        "id": "E91MYW12w4si"
      },
      "source": [
        "opt = optimizers.SGD(learning_rate=0.01, momentum=0.9)\n",
        "# Experimentar loss='sparse_categorical_crossentropy'\n",
        "model.compile(optimizer='adam',\n",
        "              loss=tf.keras.losses.SparseCategoricalCrossentropy(from_logits=True),\n",
        "              metrics=['accuracy'])"
      ],
      "execution_count": null,
      "outputs": []
    },
    {
      "cell_type": "markdown",
      "metadata": {
        "id": "P2XgXu48xU1e"
      },
      "source": [
        "## Treinar o modelo"
      ]
    },
    {
      "cell_type": "code",
      "metadata": {
        "id": "KMyzSTi4xXWT",
        "colab": {
          "base_uri": "https://localhost:8080/"
        },
        "outputId": "7cea5310-2da7-4691-a404-8ac321fd6570"
      },
      "source": [
        "epochs=25\n",
        "start_time = time.time()\n",
        "with tf.device('/device:GPU:0'):\n",
        "  history = model.fit(\n",
        "    train_ds,\n",
        "    validation_data=valid_ds,\n",
        "    epochs=epochs\n",
        "  )\n",
        "print(\"%s minutos\" % ((time.time() - start_time)/60))\n",
        "\n",
        "results = model.evaluate(test_ds)"
      ],
      "execution_count": null,
      "outputs": [
        {
          "output_type": "stream",
          "text": [
            "Epoch 1/25\n",
            "1101/1101 [==============================] - 37s 7ms/step - loss: 4.9876 - accuracy: 0.0503 - val_loss: 3.2254 - val_accuracy: 0.2632\n",
            "Epoch 2/25\n",
            "1101/1101 [==============================] - 4s 4ms/step - loss: 3.1095 - accuracy: 0.3015 - val_loss: 2.2732 - val_accuracy: 0.4600\n",
            "Epoch 3/25\n",
            "1101/1101 [==============================] - 4s 4ms/step - loss: 2.2453 - accuracy: 0.4691 - val_loss: 1.8495 - val_accuracy: 0.5408\n",
            "Epoch 4/25\n",
            "1101/1101 [==============================] - 4s 4ms/step - loss: 1.7584 - accuracy: 0.5700 - val_loss: 1.6736 - val_accuracy: 0.5872\n",
            "Epoch 5/25\n",
            "1101/1101 [==============================] - 4s 4ms/step - loss: 1.4382 - accuracy: 0.6391 - val_loss: 1.6529 - val_accuracy: 0.5928\n",
            "Epoch 6/25\n",
            "1101/1101 [==============================] - 4s 4ms/step - loss: 1.1876 - accuracy: 0.6912 - val_loss: 1.5662 - val_accuracy: 0.6272\n",
            "Epoch 7/25\n",
            "1101/1101 [==============================] - 4s 4ms/step - loss: 0.9410 - accuracy: 0.7530 - val_loss: 1.6782 - val_accuracy: 0.6304\n",
            "Epoch 8/25\n",
            "1101/1101 [==============================] - 4s 4ms/step - loss: 0.7794 - accuracy: 0.7909 - val_loss: 1.8071 - val_accuracy: 0.6208\n",
            "Epoch 9/25\n",
            "1101/1101 [==============================] - 4s 4ms/step - loss: 0.6165 - accuracy: 0.8297 - val_loss: 1.9553 - val_accuracy: 0.6200\n",
            "Epoch 10/25\n",
            "1101/1101 [==============================] - 4s 4ms/step - loss: 0.4961 - accuracy: 0.8583 - val_loss: 2.0309 - val_accuracy: 0.6072\n",
            "Epoch 11/25\n",
            "1101/1101 [==============================] - 4s 4ms/step - loss: 0.3925 - accuracy: 0.8875 - val_loss: 2.1297 - val_accuracy: 0.6184\n",
            "Epoch 12/25\n",
            "1101/1101 [==============================] - 4s 4ms/step - loss: 0.3257 - accuracy: 0.9034 - val_loss: 2.4698 - val_accuracy: 0.6064\n",
            "Epoch 13/25\n",
            "1101/1101 [==============================] - 4s 4ms/step - loss: 0.2636 - accuracy: 0.9201 - val_loss: 2.6125 - val_accuracy: 0.6064\n",
            "Epoch 14/25\n",
            "1101/1101 [==============================] - 4s 4ms/step - loss: 0.2282 - accuracy: 0.9289 - val_loss: 2.8873 - val_accuracy: 0.6016\n",
            "Epoch 15/25\n",
            "1101/1101 [==============================] - 4s 4ms/step - loss: 0.2168 - accuracy: 0.9331 - val_loss: 3.1185 - val_accuracy: 0.6080\n",
            "Epoch 16/25\n",
            "1101/1101 [==============================] - 4s 4ms/step - loss: 0.1786 - accuracy: 0.9429 - val_loss: 2.9517 - val_accuracy: 0.5952\n",
            "Epoch 17/25\n",
            "1101/1101 [==============================] - 4s 4ms/step - loss: 0.1733 - accuracy: 0.9461 - val_loss: 3.2809 - val_accuracy: 0.5912\n",
            "Epoch 18/25\n",
            "1101/1101 [==============================] - 4s 4ms/step - loss: 0.1711 - accuracy: 0.9460 - val_loss: 3.5149 - val_accuracy: 0.6024\n",
            "Epoch 19/25\n",
            "1101/1101 [==============================] - 4s 4ms/step - loss: 0.1463 - accuracy: 0.9530 - val_loss: 3.5306 - val_accuracy: 0.5928\n",
            "Epoch 20/25\n",
            "1101/1101 [==============================] - 4s 4ms/step - loss: 0.1689 - accuracy: 0.9453 - val_loss: 3.6751 - val_accuracy: 0.5888\n",
            "Epoch 21/25\n",
            "1101/1101 [==============================] - 4s 4ms/step - loss: 0.1507 - accuracy: 0.9523 - val_loss: 3.5698 - val_accuracy: 0.6040\n",
            "Epoch 22/25\n",
            "1101/1101 [==============================] - 4s 4ms/step - loss: 0.1305 - accuracy: 0.9588 - val_loss: 3.5991 - val_accuracy: 0.5904\n",
            "Epoch 23/25\n",
            "1101/1101 [==============================] - 4s 4ms/step - loss: 0.1271 - accuracy: 0.9597 - val_loss: 3.9336 - val_accuracy: 0.5872\n",
            "Epoch 24/25\n",
            "1101/1101 [==============================] - 4s 4ms/step - loss: 0.1257 - accuracy: 0.9602 - val_loss: 4.2771 - val_accuracy: 0.5664\n",
            "Epoch 25/25\n",
            "1101/1101 [==============================] - 4s 4ms/step - loss: 0.1182 - accuracy: 0.9621 - val_loss: 4.0671 - val_accuracy: 0.5928\n",
            "2.3631802717844645 minutos\n",
            "40/40 [==============================] - 2s 27ms/step - loss: 3.7086 - accuracy: 0.6104\n"
          ],
          "name": "stdout"
        }
      ]
    },
    {
      "cell_type": "code",
      "metadata": {
        "id": "EyB0hprYx6nF"
      },
      "source": [
        ""
      ],
      "execution_count": null,
      "outputs": []
    },
    {
      "cell_type": "markdown",
      "metadata": {
        "id": "6DKbfavrxcUU"
      },
      "source": [
        "## Prever"
      ]
    },
    {
      "cell_type": "code",
      "metadata": {
        "id": "ka0MbpVwxehb",
        "colab": {
          "base_uri": "https://localhost:8080/",
          "height": 285
        },
        "outputId": "b8e0f0b3-c8db-427a-e467-61e3a7a97d4a"
      },
      "source": [
        "i=4\n",
        "predictions = model.predict(test_ds)\n",
        "score = tf.nn.softmax(predictions[i])\n",
        "\n",
        "print(\n",
        "    \"Em teoria o pássaro é um {} com {:.2f} porcento de certeza mpt.\"\n",
        "    .format(class_names[np.argmax(score)], 100 * np.max(score))\n",
        ")\n",
        "plt.imshow(list(test_ds)[0][0][i]/255)\n",
        "plt.show()"
      ],
      "execution_count": null,
      "outputs": [
        {
          "output_type": "stream",
          "text": [
            "Em teoria o pássaro é um GREATOR SAGE GROUSE com 96.77 porcento de certeza mpt.\n"
          ],
          "name": "stdout"
        },
        {
          "output_type": "display_data",
          "data": {
            "image/png": "[encoded data removed]",
            "text/plain": [
              "<Figure size 432x288 with 1 Axes>"
            ]
          },
          "metadata": {
            "tags": [],
            "needs_background": "light"
          }
        }
      ]
    },
    {
      "cell_type": "markdown",
      "metadata": {
        "id": "ZSBCPf2DYoka"
      },
      "source": [
        "## VGG 16/19\n"
      ]
    },
    {
      "cell_type": "code",
      "metadata": {
        "id": "1jPvnZBTmDo_"
      },
      "source": [
        "def create_model(input_shape, n_classes, optimizer='rmsprop', fine_tune=0):\n",
        "    \"\"\"\n",
        "    Compiles a model integrated with VGG16 pretrained layers\n",
        "    \n",
        "    input_shape: tuple - the shape of input images (width, height, channels)\n",
        "    n_classes: int - number of classes for the output layer\n",
        "    optimizer: string - instantiated optimizer to use for training. Defaults to 'RMSProp'\n",
        "    fine_tune: int - The number of pre-trained layers to unfreeze.\n",
        "                If set to 0, all pretrained layers will freeze during training\n",
        "    \"\"\"\n",
        "    \n",
        "    # Pretrained convolutional layers are loaded using the Imagenet weights.\n",
        "    # Include_top is set to False, in order to exclude the model's fully-connected layers.\n",
        "    conv_base = VGG16(include_top=False,\n",
        "                     weights='imagenet', \n",
        "                     input_shape=input_shape)\n",
        "    \n",
        "    # Defines how many layers to freeze during training.\n",
        "    # Layers in the convolutional base are switched from trainable to non-trainable\n",
        "    # depending on the size of the fine-tuning parameter.\n",
        "    if fine_tune > 0:\n",
        "        for layer in conv_base.layers[:-fine_tune]:\n",
        "            layer.trainable = False\n",
        "    else:\n",
        "        for layer in conv_base.layers:\n",
        "            layer.trainable = False\n",
        "\n",
        "\n",
        "    # Create a new 'top' of the model (i.e. fully-connected layers).\n",
        "    # This is 'bootstrapping' a new top_model onto the pretrained layers.\n",
        "    top_model = conv_base.output\n",
        "    top_model = layers.Flatten(name=\"flatten\")(top_model)\n",
        "    #top_model = layers.Dense(4096, activation='relu')(top_model)\n",
        "    top_model = layers.Dense(1072, activation='relu')(top_model)\n",
        "    #top_model = layers.Dropout(0.2)(top_model)\n",
        "    output_layer = layers.Dense(n_classes, activation='softmax')(top_model)\n",
        "    \n",
        "    # Group the convolutional base and new fully-connected layers into a Model object.\n",
        "    model = keras.Model(inputs=conv_base.input, outputs=output_layer)\n",
        "\n",
        "    # Compiles the model for training.\n",
        "    model.compile(optimizer=optimizer, \n",
        "                  loss=tf.keras.losses.SparseCategoricalCrossentropy(from_logits=True),\n",
        "                  metrics=['accuracy'])\n",
        "    \n",
        "    return model"
      ],
      "execution_count": null,
      "outputs": []
    },
    {
      "cell_type": "code",
      "metadata": {
        "colab": {
          "base_uri": "https://localhost:8080/"
        },
        "id": "Zq71kAxvYr_A",
        "outputId": "29c7bba4-846f-49c8-fe54-b7456c773b16"
      },
      "source": [
        "# https://www.learndatasci.com/tutorials/hands-on-transfer-learning-keras/\n",
        "\n",
        "from keras.applications.vgg16 import VGG16\n",
        "from keras.applications.vgg19 import VGG19\n",
        "\n",
        "input_shape = (64,64,3)\n",
        "optim_1 = optimizers.Adam(learning_rate=0.001)\n",
        "n_classes=250\n",
        "\n",
        "n_steps = 32\n",
        "n_val_steps = 32\n",
        "n_epochs = 15\n",
        "\n",
        "# First we'll train the model without Fine-tuning\n",
        "vgg_model = create_model(input_shape, n_classes, optim_1, fine_tune=1)\n",
        "\n",
        "\n",
        "\n",
        "\n",
        "\n",
        "with tf.device('/device:GPU:0'):\n",
        "  vgg_history = vgg_model.fit(train_ds,\n",
        "                            epochs=n_epochs,\n",
        "                            batch_size=32,\n",
        "                            validation_data=valid_ds)"
      ],
      "execution_count": null,
      "outputs": [
        {
          "output_type": "stream",
          "text": [
            "Epoch 1/15\n",
            "1101/1101 [==============================] - 65s 19ms/step - loss: 9.9555 - accuracy: 0.0802 - val_loss: 3.7434 - val_accuracy: 0.2056\n",
            "Epoch 2/15\n",
            "1101/1101 [==============================] - 17s 16ms/step - loss: 3.6544 - accuracy: 0.2334 - val_loss: 3.3590 - val_accuracy: 0.2568\n",
            "Epoch 3/15\n",
            "1101/1101 [==============================] - 17s 16ms/step - loss: 3.0999 - accuracy: 0.3083 - val_loss: 3.3459 - val_accuracy: 0.2968\n",
            "Epoch 4/15\n",
            "1101/1101 [==============================] - 17s 16ms/step - loss: 2.7473 - accuracy: 0.3679 - val_loss: 3.3191 - val_accuracy: 0.3200\n",
            "Epoch 5/15\n",
            "1101/1101 [==============================] - 17s 15ms/step - loss: 2.5276 - accuracy: 0.4097 - val_loss: 3.5486 - val_accuracy: 0.3168\n",
            "Epoch 6/15\n",
            "1101/1101 [==============================] - 17s 16ms/step - loss: 2.3531 - accuracy: 0.4420 - val_loss: 3.5577 - val_accuracy: 0.3456\n",
            "Epoch 7/15\n",
            "1101/1101 [==============================] - 17s 16ms/step - loss: 2.1835 - accuracy: 0.4813 - val_loss: 3.6039 - val_accuracy: 0.3400\n",
            "Epoch 8/15\n",
            "1101/1101 [==============================] - 17s 16ms/step - loss: 2.0690 - accuracy: 0.5012 - val_loss: 3.6294 - val_accuracy: 0.3464\n",
            "Epoch 9/15\n",
            "1101/1101 [==============================] - 17s 16ms/step - loss: 1.9773 - accuracy: 0.5271 - val_loss: 3.8201 - val_accuracy: 0.3672\n",
            "Epoch 10/15\n",
            "1101/1101 [==============================] - 17s 16ms/step - loss: 1.8916 - accuracy: 0.5449 - val_loss: 3.8317 - val_accuracy: 0.3664\n",
            "Epoch 11/15\n",
            "1101/1101 [==============================] - 17s 16ms/step - loss: 1.8295 - accuracy: 0.5554 - val_loss: 3.8841 - val_accuracy: 0.3696\n",
            "Epoch 12/15\n",
            "1101/1101 [==============================] - 17s 16ms/step - loss: 1.7591 - accuracy: 0.5694 - val_loss: 4.0812 - val_accuracy: 0.3696\n",
            "Epoch 13/15\n",
            "1101/1101 [==============================] - 17s 16ms/step - loss: 1.7280 - accuracy: 0.5818 - val_loss: 4.3864 - val_accuracy: 0.3760\n",
            "Epoch 14/15\n",
            "1101/1101 [==============================] - 17s 16ms/step - loss: 1.6720 - accuracy: 0.5896 - val_loss: 4.4085 - val_accuracy: 0.3632\n",
            "Epoch 15/15\n",
            "1101/1101 [==============================] - 17s 16ms/step - loss: 1.6100 - accuracy: 0.6037 - val_loss: 4.4862 - val_accuracy: 0.3696\n"
          ],
          "name": "stdout"
        }
      ]
    },
    {
      "cell_type": "markdown",
      "metadata": {
        "id": "ExOt6VBkb5U4"
      },
      "source": [
        "# Algoritmo Genético"
      ]
    },
    {
      "cell_type": "code",
      "metadata": {
        "id": "qfQqRlchcALt"
      },
      "source": [
        "##\n",
        "# Formato do gene [nParesConv2DMaxPooling(entre 1 e 3), learningRate, Momentum, Nesterov, lossFunction, batchSize, Epochs]\n",
        "#\n",
        "##\n",
        "\n",
        "def random_pool_generator(poolSize=8):\n",
        "  print(poolSize)\n",
        "\n",
        "def select_mating_pool():\n",
        "  pass\n",
        "\n",
        "def crossover():\n",
        "  pass\n",
        "\n",
        "def mutation():\n",
        "  pass\n",
        "\n",
        "\n",
        "\n"
      ],
      "execution_count": null,
      "outputs": []
    }
  ]
}